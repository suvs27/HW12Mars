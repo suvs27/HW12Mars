{
 "cells": [
  {
   "cell_type": "code",
   "execution_count": 1,
   "metadata": {},
   "outputs": [],
   "source": [
    "from splinter import Browser\n",
    "from bs4 import BeautifulSoup as bs\n",
    "import requests\n",
    "import pandas as pd\n",
    "from splinter.exceptions import ElementDoesNotExist\n"
   ]
  },
  {
   "cell_type": "code",
   "execution_count": 2,
   "metadata": {},
   "outputs": [],
   "source": [
    "executable_path = {'executable_path': 'chromedriver.exe'}\n",
    "browser = Browser('chrome', **executable_path, headless=False)"
   ]
  },
  {
   "cell_type": "code",
   "execution_count": 3,
   "metadata": {},
   "outputs": [
    {
     "name": "stdout",
     "output_type": "stream",
     "text": [
      "The name of one article is\n",
      "NASA's Curiosity Mars Rover Finds a Clay Cache\n",
      "The description of this article is: \n",
      "The rover recently drilled two samples, and both showed the highest levels of clay ever found during the mission.\n",
      "\n",
      "The name of one article is\n",
      "Why This Martian Full Moon Looks Like Candy\n",
      "The description of this article is: \n",
      "For the first time, NASA's Mars Odyssey orbiter has caught the Martian moon Phobos during a full moon phase. Each color in this new image represents a temperature range detected by Odyssey's infrared camera.\n",
      "\n",
      "The name of one article is\n",
      "NASA Garners 7 Webby Award Nominations\n",
      "The description of this article is: \n",
      "Nominees include four JPL projects: the solar system and climate websites, InSight social media, and a 360-degree Earth video. Public voting closes April 18, 2019.\n",
      "\n"
     ]
    }
   ],
   "source": [
    "# Scraping Nasa Mars News\n",
    "# Scrape the [NASA Mars News Site](https://mars.nasa.gov/news/) \n",
    "# and collect the latest News Title and Paragraph Text. Assign the text to variables that you can reference later.\n",
    "\n",
    "source = requests.get('https://mars.nasa.gov/news/').text\n",
    "soup = bs(source, 'html.parser')\n",
    "article = soup.find_all('div', class_='content_title')\n",
    "#print(article)\n",
    "news_title0 = article[0].a.text\n",
    "news_title1 = article[1].a.text\n",
    "news_title2 = article[2].a.text\n",
    "\n",
    "description = soup.find_all('div', class_=\"rollover_description_inner\")\n",
    "news_p0 = description[0].text\n",
    "news_p1 = description[1].text\n",
    "news_p2 = description[2].text\n",
    "\n",
    "print(f\"The name of one article is{news_title0}The description of this article is: {news_p0}\")\n",
    "print(f\"The name of one article is{news_title1}The description of this article is: {news_p1}\")\n",
    "print(f\"The name of one article is{news_title2}The description of this article is: {news_p2}\")"
   ]
  },
  {
   "cell_type": "code",
   "execution_count": 4,
   "metadata": {},
   "outputs": [
    {
     "name": "stdout",
     "output_type": "stream",
     "text": [
      "Scraping Full Image Complete\n"
     ]
    },
    {
     "data": {
      "text/plain": [
       "'https://www.jpl.nasa.gov/spaceimages/images/largesize/PIA22574_hires.jpg'"
      ]
     },
     "execution_count": 4,
     "metadata": {},
     "output_type": "execute_result"
    }
   ],
   "source": [
    "# Scraping JPL Mars Space Images - Featured Image\n",
    "# Return featured_img_url\n",
    "\n",
    "\n",
    "#Visit the url for JPL Featured Space Image [here](https://www.jpl.nasa.gov/spaceimages/?search=&category=Mars).\n",
    "#Use splinter to navigate the site \n",
    "url = 'https://www.jpl.nasa.gov/spaceimages/?search=&category=Mars'\n",
    "browser.visit(url)\n",
    "\n",
    "try:\n",
    "    browser.click_link_by_id('full_image')\n",
    "except:\n",
    "    browser.click_link_by_partial_text('FULL IMAGE')\n",
    "else:\n",
    "    print(\"Scraping Full Image Complete\")\n",
    "\n",
    "    \n",
    "check = 0\n",
    "try:\n",
    "    links_found = browser.find_link_by_partial_href('spaceimages/details')\n",
    "    url2 = links_found[0][\"href\"]\n",
    "    browser.click_link_by_partial_text('more info')\n",
    "    links_found2 = browser.find_link_by_partial_href('spaceimages/images/largesize')\n",
    "    f1 = links_found2[0][\"href\"]\n",
    "    check = 1\n",
    "except:\n",
    "    browser.visit(url2)\n",
    "    links_found3 = browser.find_link_by_partial_href('spaceimages/images/largesize')\n",
    "    f2 = links_found3[0][\"href\"]\n",
    "else:\n",
    "      print(\"Scraping More Info Complete\")\n",
    "        \n",
    "\n",
    "if check ==1:\n",
    "    featured_image_url = f1\n",
    "else:\n",
    "    featured_image_url = f2\n",
    "    \n",
    "\n",
    "featured_image_url\n",
    "\n"
   ]
  },
  {
   "cell_type": "code",
   "execution_count": 5,
   "metadata": {},
   "outputs": [
    {
     "data": {
      "text/plain": [
       "'I’d say a plutonium-238 powered RTG qualifies the Curiosity and Mars2020 rovers as alternative fuel vehicles. You can explore these and other missions, rockets and more with JPL’s Spacecraft AR for IOS and Androhttps://www.jpl.nasa.gov/apps/pic.twitter.com/f4SheTlQyY'"
      ]
     },
     "execution_count": 5,
     "metadata": {},
     "output_type": "execute_result"
    }
   ],
   "source": [
    "# Mars Weather\n",
    "# Returns (mars_weather)\n",
    "\n",
    "\n",
    "#Visit the Mars Weather twitter account [here](https://twitter.com/marswxreport?lang=en) \n",
    "#and scrape the latest Mars weather tweet from the page. \n",
    "#Save the tweet text for the weather report as a variable called `mars_weather`\n",
    "source3 = requests.get('https://twitter.com/marswxreport?lang=en').text\n",
    "soup = bs(source3, 'html.parser')\n",
    "tweets = soup.find_all('p', class_=\"TweetTextSize TweetTextSize--normal js-tweet-text tweet-text\")\n",
    "#print(tweets[0].text)\n",
    "\n",
    "mars_weather = tweets[0].text\n",
    "\n",
    "mars_weather"
   ]
  },
  {
   "cell_type": "code",
   "execution_count": 6,
   "metadata": {},
   "outputs": [
    {
     "data": {
      "text/plain": [
       "'<table border=\"1\" class=\"dataframe\">  <thead>    <tr style=\"text-align: right;\">      <th></th>      <th>Value</th>    </tr>    <tr>      <th>Description</th>      <th></th>    </tr>  </thead>  <tbody>    <tr>      <th>Equatorial Diameter:</th>      <td>6,792 km</td>    </tr>    <tr>      <th>Polar Diameter:</th>      <td>6,752 km</td>    </tr>    <tr>      <th>Mass:</th>      <td>6.39 × 10^23 kg (0.11 Earths)</td>    </tr>    <tr>      <th>Moons:</th>      <td>2 (Phobos &amp; Deimos)</td>    </tr>    <tr>      <th>Orbit Distance:</th>      <td>227,943,824 km (1.38 AU)</td>    </tr>    <tr>      <th>Orbit Period:</th>      <td>687 days (1.9 years)</td>    </tr>    <tr>      <th>Surface Temperature:</th>      <td>-87 to -5 °C</td>    </tr>    <tr>      <th>First Record:</th>      <td>2nd millennium BC</td>    </tr>    <tr>      <th>Recorded By:</th>      <td>Egyptian astronomers</td>    </tr>  </tbody></table>'"
      ]
     },
     "execution_count": 6,
     "metadata": {},
     "output_type": "execute_result"
    }
   ],
   "source": [
    "#Mars Facts\n",
    "# Returns (mars_facts_table)\n",
    "\n",
    "\n",
    "facts = pd.read_html(\"https://space-facts.com/mars/\")\n",
    "\n",
    "facts\n",
    "len(facts)\n",
    "\n",
    "mars_facts_df = facts[1]\n",
    "mars_facts_df.columns = ['Description', 'Value']\n",
    "mars_facts_df.set_index(\"Description\", inplace=True)\n",
    "mars_facts_df.head()\n",
    "mars_facts_table = mars_facts_df.to_html()\n",
    "mars_facts_table = mars_facts_table.replace('\\n', '')\n",
    "mars_facts_df.to_html('mars_facts_table.html')\n",
    "\n",
    "\n",
    "mars_facts_table"
   ]
  },
  {
   "cell_type": "code",
   "execution_count": 7,
   "metadata": {},
   "outputs": [
    {
     "data": {
      "text/plain": [
       "[{'title': 'Cerberus Hemisphere Enhanced',\n",
       "  'img_url': 'http://astropedia.astrogeology.usgs.gov/download/Mars/Viking/cerberus_enhanced.tif'},\n",
       " {'title': 'Schiaparelli Hemisphere Enhanced',\n",
       "  'img_url': 'http://astropedia.astrogeology.usgs.gov/download/Mars/Viking/schiaparelli_enhanced.tif'},\n",
       " {'title': 'Syrtis Major Hemisphere Enhanced',\n",
       "  'img_url': 'http://astropedia.astrogeology.usgs.gov/download/Mars/Viking/syrtis_major_enhanced.tif'},\n",
       " {'title': 'Valles Marineris Hemisphere Enhanced',\n",
       "  'img_url': 'http://astropedia.astrogeology.usgs.gov/download/Mars/Viking/valles_marineris_enhanced.tif'}]"
      ]
     },
     "execution_count": 7,
     "metadata": {},
     "output_type": "execute_result"
    }
   ],
   "source": [
    "# Mars Hemispheres\n",
    "# Returns hemisphere_image_urls\n",
    "\n",
    "\n",
    "hemi = \"https://astrogeology.usgs.gov/search/results?q=hemisphere+enhanced&k1=target&v1=Mars\"\n",
    "browser.visit(hemi)\n",
    "html = browser.html\n",
    "\n",
    "# Get titles for all four mars pictures\n",
    "soup = bs(html, 'html.parser')\n",
    "hemi_class = soup.find_all('h3')\n",
    "cerberus_title = hemi_class[0].text\n",
    "schiaparelli_title = hemi_class[1].text\n",
    "syrtis_title = hemi_class[2].text\n",
    "valles_title = hemi_class[3].text\n",
    "\n",
    "# Get Cerberus Information\n",
    "browser.click_link_by_partial_text('Cerberus Hemisphere Enhanced')\n",
    "link1 = (browser.find_link_by_partial_text('Original'))\n",
    "cerberus_link = (link1[0][\"href\"])\n",
    "browser.back()\n",
    "\n",
    "# Get Schiaparelli Information\n",
    "browser.click_link_by_partial_text('Schiaparelli Hemisphere Enhanced')\n",
    "link2 = (browser.find_link_by_partial_text('Original'))\n",
    "schiaparelli_link = (link2[0][\"href\"])\n",
    "\n",
    "browser.back()\n",
    "\n",
    "# Get Syrtis Major Information\n",
    "browser.click_link_by_partial_text('Syrtis Major Hemisphere Enhanced')\n",
    "link3 = (browser.find_link_by_partial_text('Original'))\n",
    "syrtis_link = (link3[0][\"href\"])\n",
    "browser.back()\n",
    "\n",
    "# Get Valles Major Information\n",
    "browser.click_link_by_partial_text('Valles Marineris Hemisphere Enhanced')\n",
    "link4 = (browser.find_link_by_partial_text('Original'))\n",
    "valles_link = (link4[0][\"href\"])\n",
    "browser.back()\n",
    "\n",
    "\n",
    "hemisphere_image_urls = [\n",
    "    {\"title\": cerberus_title, \"img_url\": cerberus_link},\n",
    "    {\"title\": schiaparelli_title, \"img_url\": schiaparelli_link},\n",
    "    {\"title\": syrtis_title, \"img_url\": syrtis_link},\n",
    "    {\"title\": valles_title, \"img_url\": valles_link},\n",
    "]\n",
    "\n",
    "hemisphere_image_urls"
   ]
  },
  {
   "cell_type": "code",
   "execution_count": null,
   "metadata": {},
   "outputs": [],
   "source": []
  }
 ],
 "metadata": {
  "kernelspec": {
   "display_name": "Python 3",
   "language": "python",
   "name": "python3"
  },
  "language_info": {
   "codemirror_mode": {
    "name": "ipython",
    "version": 3
   },
   "file_extension": ".py",
   "mimetype": "text/x-python",
   "name": "python",
   "nbconvert_exporter": "python",
   "pygments_lexer": "ipython3",
   "version": "3.7.3"
  }
 },
 "nbformat": 4,
 "nbformat_minor": 2
}

{
 "cells": [
  {
   "cell_type": "code",
   "execution_count": 115,
   "metadata": {},
   "outputs": [],
   "source": [
    "from splinter import Browser\n",
    "from bs4 import BeautifulSoup as bs\n",
    "import requests\n",
    "import pandas as pd\n",
    "from splinter.exceptions import ElementDoesNotExist\n"
   ]
  },
  {
   "cell_type": "code",
   "execution_count": 116,
   "metadata": {},
   "outputs": [],
   "source": [
    "executable_path = {'executable_path': 'chromedriver.exe'}\n",
    "browser = Browser('chrome', **executable_path, headless=False)"
   ]
  },
  {
   "cell_type": "code",
   "execution_count": 117,
   "metadata": {},
   "outputs": [
    {
     "name": "stdout",
     "output_type": "stream",
     "text": [
      "The name of one article is\n",
      "NASA's Curiosity Mars Rover Finds a Clay Cache\n",
      "The description of this article is: \n",
      "The rover recently drilled two samples, and both showed the highest levels of clay ever found during the mission.\n",
      "\n",
      "The name of one article is\n",
      "Why This Martian Full Moon Looks Like Candy\n",
      "The description of this article is: \n",
      "For the first time, NASA's Mars Odyssey orbiter has caught the Martian moon Phobos during a full moon phase. Each color in this new image represents a temperature range detected by Odyssey's infrared camera.\n",
      "\n",
      "The name of one article is\n",
      "NASA Garners 7 Webby Award Nominations\n",
      "The description of this article is: \n",
      "Nominees include four JPL projects: the solar system and climate websites, InSight social media, and a 360-degree Earth video. Public voting closes April 18, 2019.\n",
      "\n"
     ]
    }
   ],
   "source": [
    "# Scraping Nasa Mars News\n",
    "# Scrape the [NASA Mars News Site](https://mars.nasa.gov/news/) \n",
    "# and collect the latest News Title and Paragraph Text. Assign the text to variables that you can reference later.\n",
    "\n",
    "source = requests.get('https://mars.nasa.gov/news/').text\n",
    "soup = bs(source, 'html.parser')\n",
    "article = soup.find_all('div', class_='content_title')\n",
    "#print(article)\n",
    "news_title0 = article[0].a.text\n",
    "news_title1 = article[1].a.text\n",
    "news_title2 = article[2].a.text\n",
    "\n",
    "description = soup.find_all('div', class_=\"rollover_description_inner\")\n",
    "news_p0 = description[0].text\n",
    "news_p1 = description[1].text\n",
    "news_p2 = description[2].text\n",
    "\n",
    "print(f\"The name of one article is{news_title0}The description of this article is: {news_p0}\")\n",
    "print(f\"The name of one article is{news_title1}The description of this article is: {news_p1}\")\n",
    "print(f\"The name of one article is{news_title2}The description of this article is: {news_p2}\")"
   ]
  },
  {
   "cell_type": "code",
   "execution_count": 118,
   "metadata": {},
   "outputs": [
    {
     "name": "stdout",
     "output_type": "stream",
     "text": [
      "Scraping Full Image Complete\n"
     ]
    }
   ],
   "source": [
    "# Scraping JPL Mars Space Images - Featured Image\n",
    "\n",
    "\n",
    "#Visit the url for JPL Featured Space Image [here](https://www.jpl.nasa.gov/spaceimages/?search=&category=Mars).\n",
    "#Use splinter to navigate the site \n",
    "url = 'https://www.jpl.nasa.gov/spaceimages/?search=&category=Mars'\n",
    "browser.visit(url)\n",
    "\n",
    "try:\n",
    "    browser.click_link_by_id('full_image')\n",
    "except:\n",
    "    browser.click_link_by_partial_text('FULL IMAGE')\n",
    "else:\n",
    "    print(\"Scraping Full Image Complete\")\n",
    "\n",
    "try:\n",
    "    browser.click_link_by_partial_text('more info')\n",
    "    links_found = browser.find_link_by_partial_href('spaceimages/details')\n",
    "    url2 = links_found[0][\"href\"]\n",
    "except:\n",
    "    browser.visit(url2)\n",
    "else:\n",
    "      print(\"Scraping More Info Complete\")\n",
    "\n"
   ]
  },
  {
   "cell_type": "code",
   "execution_count": 119,
   "metadata": {},
   "outputs": [
    {
     "name": "stdout",
     "output_type": "stream",
     "text": [
      "https://www.jpl.nasa.gov/spaceimages/details.php?id=PIA15883\n"
     ]
    }
   ],
   "source": [
    "print(url2)"
   ]
  },
  {
   "cell_type": "code",
   "execution_count": 120,
   "metadata": {},
   "outputs": [],
   "source": [
    "# Mars Weather\n",
    "#Visit the Mars Weather twitter account [here](https://twitter.com/marswxreport?lang=en) \n",
    "#and scrape the latest Mars weather tweet from the page. \n",
    "#Save the tweet text for the weather report as a variable called `mars_weather`\n",
    "source3 = requests.get('https://twitter.com/marswxreport?lang=en').text\n",
    "soup = bs(source3, 'html.parser')\n",
    "tweets = soup.find_all('p', class_=\"TweetTextSize TweetTextSize--normal js-tweet-text tweet-text\")\n",
    "#print(tweets[0].text)\n",
    "mars_water = tweets[0].text"
   ]
  },
  {
   "cell_type": "code",
   "execution_count": 147,
   "metadata": {},
   "outputs": [],
   "source": [
    "#Mars Facts\n",
    "facts = pd.read_html(\"https://space-facts.com/mars/\")\n",
    "\n",
    "facts\n",
    "len(facts)\n",
    "\n",
    "mars_facts_df = facts[1]\n",
    "mars_facts_df.columns = ['Description', 'Value']\n",
    "mars_facts_df.set_index(\"Description\", inplace=True)\n",
    "mars_facts_df.head()\n",
    "mars_facts_table = mars_facts_df.to_html()\n",
    "mars_facts_table = mars_facts_table.replace('\\n', '')\n",
    "mars_facts_table\n",
    "mars_facts_df.to_html('mars_facts_table.html')"
   ]
  },
  {
   "cell_type": "code",
   "execution_count": null,
   "metadata": {},
   "outputs": [],
   "source": [
    "# Mars Hemispheres\n"
   ]
  }
 ],
 "metadata": {
  "kernelspec": {
   "display_name": "Python 3",
   "language": "python",
   "name": "python3"
  },
  "language_info": {
   "codemirror_mode": {
    "name": "ipython",
    "version": 3
   },
   "file_extension": ".py",
   "mimetype": "text/x-python",
   "name": "python",
   "nbconvert_exporter": "python",
   "pygments_lexer": "ipython3",
   "version": "3.7.3"
  }
 },
 "nbformat": 4,
 "nbformat_minor": 2
}
